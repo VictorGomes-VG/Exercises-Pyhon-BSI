{
  "nbformat": 4,
  "nbformat_minor": 0,
  "metadata": {
    "colab": {
      "provenance": []
    },
    "kernelspec": {
      "name": "python3",
      "display_name": "Python 3"
    },
    "language_info": {
      "name": "python"
    }
  },
  "cells": [
    {
      "cell_type": "code",
      "source": [
        "#1 - \"b)\" \n",
        "\n",
        "class Usuario():\n",
        "    primeiroNome = \"Jonnie\"\n",
        "    ultimoNome = \"Bravo\"\n",
        "\n",
        "    def hello(self):\n",
        "      return \"olá,\"+ self.primeiroNome + \" \" + self.ultimoNome\n",
        "\n",
        "usuario1 = Usuario()\n",
        "print(usuario1.hello())\n"
      ],
      "metadata": {
        "colab": {
          "base_uri": "https://localhost:8080/"
        },
        "id": "QuE5ljvVdQ6W",
        "outputId": "39b5a3c2-4afa-41f6-a465-9e0fe36ad274"
      },
      "execution_count": 2,
      "outputs": [
        {
          "output_type": "stream",
          "name": "stdout",
          "text": [
            "olá,JonnieBravo\n"
          ]
        }
      ]
    }
  ]
}